{
  "nbformat": 4,
  "nbformat_minor": 0,
  "metadata": {
    "colab": {
      "name": "df_to_json.ipynb",
      "version": "0.3.2",
      "views": {},
      "default_view": {},
      "provenance": []
    },
    "kernelspec": {
      "name": "python3",
      "display_name": "Python 3"
    }
  },
  "cells": [
    {
      "metadata": {
        "id": "eO4n4Q289Hay",
        "colab_type": "code",
        "colab": {
          "autoexec": {
            "startup": false,
            "wait_interval": 0
          }
        }
      },
      "cell_type": "code",
      "source": [
        "import pandas as pd\n",
        "import json\n",
        "\n",
        "data = [('n02124075', 'egyptian_cat'),\n",
        "        ('n04067472', 'reel'),\n",
        "        ('n04540053', 'volleyball')]\n",
        "\n",
        "df = pd.DataFrame(data)\n",
        "\n",
        "with open('my_file.json', 'w') as f:\n",
        "  json.dump(df.T.to_dict(orient='list'), f)"
      ],
      "execution_count": 0,
      "outputs": []
    },
    {
      "metadata": {
        "id": "NHn-EjPf9iZY",
        "colab_type": "code",
        "colab": {
          "autoexec": {
            "startup": false,
            "wait_interval": 0
          },
          "base_uri": "https://localhost:8080/",
          "height": 34
        },
        "outputId": "3a848b5c-3ed3-4cc9-8a09-09249267e9ea",
        "executionInfo": {
          "status": "ok",
          "timestamp": 1523773247914,
          "user_tz": -330,
          "elapsed": 887,
          "user": {
            "displayName": "Sri G.",
            "photoUrl": "//lh5.googleusercontent.com/-vM_m-s-bZVU/AAAAAAAAAAI/AAAAAAAAAAc/K65JksiXBJ0/s50-c-k-no/photo.jpg",
            "userId": "105368309125522284066"
          }
        }
      },
      "cell_type": "code",
      "source": [
        "with open('my_file.json') as f:\n",
        "  print(f.read())"
      ],
      "execution_count": 3,
      "outputs": [
        {
          "output_type": "stream",
          "text": [
            "{\"0\": [\"n02124075\", \"egyptian_cat\"], \"1\": [\"n04067472\", \"reel\"], \"2\": [\"n04540053\", \"volleyball\"]}\n"
          ],
          "name": "stdout"
        }
      ]
    }
  ]
}