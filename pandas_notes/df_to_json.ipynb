{
  "nbformat": 4,
  "nbformat_minor": 0,
  "metadata": {
    "colab": {
      "name": "df_to_json.ipynb",
      "version": "0.3.2",
      "views": {},
      "default_view": {},
      "provenance": [],
      "collapsed_sections": []
    },
    "kernelspec": {
      "name": "python3",
      "display_name": "Python 3"
    }
  },
  "cells": [
    {
      "metadata": {
        "id": "eO4n4Q289Hay",
        "colab_type": "code",
        "colab": {
          "autoexec": {
            "startup": false,
            "wait_interval": 0
          }
        }
      },
      "cell_type": "code",
      "source": [
        "import pandas as pd\n",
        "import json\n",
        "\n",
        "data = [('n02124075', 'egyptian_cat'),\n",
        "        ('n04067472', 'reel'),\n",
        "        ('n04540053', 'volleyball')]\n",
        "\n",
        "df = pd.DataFrame(data)\n",
        "\n",
        "with open('my_file.json', 'w') as f:\n",
        "  json.dump(df.T.to_dict(orient='list'), f)"
      ],
      "execution_count": 0,
      "outputs": []
    },
    {
      "metadata": {
        "id": "NHn-EjPf9iZY",
        "colab_type": "code",
        "colab": {
          "autoexec": {
            "startup": false,
            "wait_interval": 0
          },
          "base_uri": "https://localhost:8080/",
          "height": 34
        },
        "outputId": "adb04bc6-1309-4a85-e1b8-b70cb6c66f54",
        "executionInfo": {
          "status": "ok",
          "timestamp": 1523779110270,
          "user_tz": -330,
          "elapsed": 699,
          "user": {
            "displayName": "Sri G.",
            "photoUrl": "//lh5.googleusercontent.com/-vM_m-s-bZVU/AAAAAAAAAAI/AAAAAAAAAAc/K65JksiXBJ0/s50-c-k-no/photo.jpg",
            "userId": "105368309125522284066"
          }
        }
      },
      "cell_type": "code",
      "source": [
        "with open('my_file.json') as f:\n",
        "  print(f.read())"
      ],
      "execution_count": 5,
      "outputs": [
        {
          "output_type": "stream",
          "text": [
            "{\"0\": [\"n02124075\", \"egyptian_cat\"], \"1\": [\"n04067472\", \"reel\"], \"2\": [\"n04540053\", \"volleyball\"]}\n"
          ],
          "name": "stdout"
        }
      ]
    },
    {
      "metadata": {
        "id": "MTAIFRmaT1LH",
        "colab_type": "code",
        "colab": {
          "autoexec": {
            "startup": false,
            "wait_interval": 0
          },
          "base_uri": "https://localhost:8080/",
          "height": 111
        },
        "outputId": "cd849f5e-a682-4ecd-9757-e317ca7e13cc",
        "executionInfo": {
          "status": "ok",
          "timestamp": 1523779111250,
          "user_tz": -330,
          "elapsed": 747,
          "user": {
            "displayName": "Sri G.",
            "photoUrl": "//lh5.googleusercontent.com/-vM_m-s-bZVU/AAAAAAAAAAI/AAAAAAAAAAc/K65JksiXBJ0/s50-c-k-no/photo.jpg",
            "userId": "105368309125522284066"
          }
        }
      },
      "cell_type": "code",
      "source": [
        "pd.read_json('my_file.json')"
      ],
      "execution_count": 6,
      "outputs": [
        {
          "output_type": "execute_result",
          "data": {
            "text/html": [
              "<div>\n",
              "<style scoped>\n",
              "    .dataframe tbody tr th:only-of-type {\n",
              "        vertical-align: middle;\n",
              "    }\n",
              "\n",
              "    .dataframe tbody tr th {\n",
              "        vertical-align: top;\n",
              "    }\n",
              "\n",
              "    .dataframe thead th {\n",
              "        text-align: right;\n",
              "    }\n",
              "</style>\n",
              "<table border=\"1\" class=\"dataframe\">\n",
              "  <thead>\n",
              "    <tr style=\"text-align: right;\">\n",
              "      <th></th>\n",
              "      <th>0</th>\n",
              "      <th>1</th>\n",
              "      <th>2</th>\n",
              "    </tr>\n",
              "  </thead>\n",
              "  <tbody>\n",
              "    <tr>\n",
              "      <th>0</th>\n",
              "      <td>n02124075</td>\n",
              "      <td>n04067472</td>\n",
              "      <td>n04540053</td>\n",
              "    </tr>\n",
              "    <tr>\n",
              "      <th>1</th>\n",
              "      <td>egyptian_cat</td>\n",
              "      <td>reel</td>\n",
              "      <td>volleyball</td>\n",
              "    </tr>\n",
              "  </tbody>\n",
              "</table>\n",
              "</div>"
            ],
            "text/plain": [
              "              0          1           2\n",
              "0     n02124075  n04067472   n04540053\n",
              "1  egyptian_cat       reel  volleyball"
            ]
          },
          "metadata": {
            "tags": []
          },
          "execution_count": 6
        }
      ]
    }
  ]
}