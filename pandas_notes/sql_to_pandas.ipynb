{
 "cells": [
  {
   "cell_type": "code",
   "execution_count": 1,
   "metadata": {
    "collapsed": false
   },
   "outputs": [
    {
     "data": {
      "text/html": [
       "<div>\n",
       "<table border=\"1\" class=\"dataframe\">\n",
       "  <thead>\n",
       "    <tr style=\"text-align: right;\">\n",
       "      <th></th>\n",
       "      <th>date</th>\n",
       "      <th>make</th>\n",
       "      <th>style</th>\n",
       "      <th>model</th>\n",
       "      <th>color</th>\n",
       "      <th>plate</th>\n",
       "      <th>state</th>\n",
       "      <th>towed_to</th>\n",
       "      <th>facility_phone</th>\n",
       "      <th>inventory_num</th>\n",
       "    </tr>\n",
       "  </thead>\n",
       "  <tbody>\n",
       "    <tr>\n",
       "      <th>0</th>\n",
       "      <td>2014-11-18</td>\n",
       "      <td>FORD</td>\n",
       "      <td>LL</td>\n",
       "      <td></td>\n",
       "      <td>BLK</td>\n",
       "      <td>S105053</td>\n",
       "      <td>IL</td>\n",
       "      <td>10300 S. Doty</td>\n",
       "      <td>(773) 568-8495</td>\n",
       "      <td>2750424</td>\n",
       "    </tr>\n",
       "    <tr>\n",
       "      <th>1</th>\n",
       "      <td>2014-11-18</td>\n",
       "      <td>HOND</td>\n",
       "      <td>4D</td>\n",
       "      <td>ACC</td>\n",
       "      <td>BLK</td>\n",
       "      <td>S415270</td>\n",
       "      <td>IL</td>\n",
       "      <td>400 E. Lower Wacker</td>\n",
       "      <td>(312) 744-7550</td>\n",
       "      <td>917129</td>\n",
       "    </tr>\n",
       "    <tr>\n",
       "      <th>2</th>\n",
       "      <td>2014-11-18</td>\n",
       "      <td>CHRY</td>\n",
       "      <td>VN</td>\n",
       "      <td></td>\n",
       "      <td>SIL</td>\n",
       "      <td>V847641</td>\n",
       "      <td>IL</td>\n",
       "      <td>701 N. Sacramento</td>\n",
       "      <td>(773) 265-7605</td>\n",
       "      <td>6798366</td>\n",
       "    </tr>\n",
       "    <tr>\n",
       "      <th>3</th>\n",
       "      <td>2014-11-18</td>\n",
       "      <td>HYUN</td>\n",
       "      <td>4D</td>\n",
       "      <td></td>\n",
       "      <td>SIL</td>\n",
       "      <td>N756530</td>\n",
       "      <td>IL</td>\n",
       "      <td>400 E. Lower Wacker</td>\n",
       "      <td>(312) 744-7550</td>\n",
       "      <td>917127</td>\n",
       "    </tr>\n",
       "    <tr>\n",
       "      <th>4</th>\n",
       "      <td>2014-11-18</td>\n",
       "      <td>TOYT</td>\n",
       "      <td>4D</td>\n",
       "      <td></td>\n",
       "      <td>WHI</td>\n",
       "      <td>K702211</td>\n",
       "      <td>IL</td>\n",
       "      <td>400 E. Lower Wacker</td>\n",
       "      <td>(312) 744-7550</td>\n",
       "      <td>917128</td>\n",
       "    </tr>\n",
       "  </tbody>\n",
       "</table>\n",
       "</div>"
      ],
      "text/plain": [
       "        date  make style model color    plate state             towed_to  \\\n",
       "0 2014-11-18  FORD    LL         BLK  S105053    IL        10300 S. Doty   \n",
       "1 2014-11-18  HOND    4D   ACC   BLK  S415270    IL  400 E. Lower Wacker   \n",
       "2 2014-11-18  CHRY    VN         SIL  V847641    IL    701 N. Sacramento   \n",
       "3 2014-11-18  HYUN    4D         SIL  N756530    IL  400 E. Lower Wacker   \n",
       "4 2014-11-18  TOYT    4D         WHI  K702211    IL  400 E. Lower Wacker   \n",
       "\n",
       "    facility_phone  inventory_num  \n",
       "0  (773) 568-8495         2750424  \n",
       "1   (312) 744-7550         917129  \n",
       "2   (773) 265-7605        6798366  \n",
       "3   (312) 744-7550         917127  \n",
       "4   (312) 744-7550         917128  "
      ]
     },
     "execution_count": 1,
     "metadata": {},
     "output_type": "execute_result"
    }
   ],
   "source": [
    "from pandas.io import sql\n",
    "import sqlite3\n",
    "\n",
    "conn = sqlite3.connect('towed.db')\n",
    "query = \"SELECT * FROM towed\"\n",
    "towed = sql.read_sql(query, con=conn, parse_dates={'date':'%m/%d/%Y'})\n",
    "towed.head()"
   ]
  },
  {
   "cell_type": "code",
   "execution_count": null,
   "metadata": {
    "collapsed": true
   },
   "outputs": [],
   "source": []
  }
 ],
 "metadata": {
  "kernelspec": {
   "display_name": "Python 3",
   "language": "python",
   "name": "python3"
  },
  "language_info": {
   "codemirror_mode": {
    "name": "ipython",
    "version": 3
   },
   "file_extension": ".py",
   "mimetype": "text/x-python",
   "name": "python",
   "nbconvert_exporter": "python",
   "pygments_lexer": "ipython3",
   "version": "3.6.0"
  }
 },
 "nbformat": 4,
 "nbformat_minor": 2
}
