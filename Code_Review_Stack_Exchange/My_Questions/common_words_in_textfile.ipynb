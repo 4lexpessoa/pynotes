{
 "cells": [
  {
   "cell_type": "markdown",
   "metadata": {},
   "source": [
    "#### [Most common words](https://codereview.stackexchange.com/questions/176862/most-common-words-in-a-text-file-of-about-1-1-million-words#176862) in a text file of about 1.1 million words\n",
    "\n",
    "When run, the function in the script gets a text file from the command-line argument `sys.argv[1]`, opens the file in `read` mode, converts the text to `lowercase`, makes a `list` of words from the text after removing any whitespaces or empty strings, and stores the list elements as `dictionary` keys and values in a `collections.Counter` object. Finally, it returns a dictionary of the most common words and their counts. The `words.most_common()` method gets its argument from the optional `top` parameter."
   ]
  },
  {
   "cell_type": "code",
   "execution_count": null,
   "metadata": {
    "collapsed": true
   },
   "outputs": [],
   "source": [
    "import sys\n",
    "import collections\n",
    "\n",
    "def find_most_common_words(textfile, top=10):    \n",
    "    \"\"\" Return the most common words in a text file. \"\"\"\n",
    "\n",
    "    textfile = open(textfile)\n",
    "    text = textfile.read().lower()\n",
    "    textfile.close()\n",
    "    words = collections.Counter(text.split()) # how often each word appears\n",
    "\n",
    "    return dict(words.most_common(top))\n",
    "\n",
    "filename = sys.argv[1]\n",
    "top_five_words = find_most_common_words(filename, 5)"
   ]
  }
 ],
 "metadata": {
  "kernelspec": {
   "display_name": "Python 3",
   "language": "python",
   "name": "python3"
  },
  "language_info": {
   "codemirror_mode": {
    "name": "ipython",
    "version": 3
   },
   "file_extension": ".py",
   "mimetype": "text/x-python",
   "name": "python",
   "nbconvert_exporter": "python",
   "pygments_lexer": "ipython3",
   "version": "3.6.0"
  }
 },
 "nbformat": 4,
 "nbformat_minor": 2
}
