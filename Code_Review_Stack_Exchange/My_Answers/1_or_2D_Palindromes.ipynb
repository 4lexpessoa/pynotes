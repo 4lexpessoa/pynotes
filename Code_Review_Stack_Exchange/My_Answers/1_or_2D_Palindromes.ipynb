{
 "cells": [
  {
   "cell_type": "markdown",
   "metadata": {},
   "source": [
    "[Checking if a string is a palindrome (in one or two dimensions)](https://codereview.stackexchange.com/questions/177210/checking-for-one-or-two-dimensional-palindrome-strings/177355#177355)\n",
    "\n",
    "I found this very interesting. Here’s my answer to the above question."
   ]
  },
  {
   "cell_type": "code",
   "execution_count": 10,
   "metadata": {
    "collapsed": false
   },
   "outputs": [
    {
     "name": "stdout",
     "output_type": "stream",
     "text": [
      "Please enter a phrase to check if it is a palindrome: I did, did I?\n",
      "The phrase to check is: \"I did, did I?\" and has 4 word(s).\n",
      "\"I did, did I?\" is a two-dimension palindrome.\n"
     ]
    }
   ],
   "source": [
    "from string import punctuation\n",
    "\n",
    "def remove_punctuation(txt):\n",
    "    return ''.join(ch for ch in txt if ch not in punctuation)\n",
    "\n",
    "def pal_text(txt):\n",
    "    return remove_punctuation(txt).lower()\n",
    "\n",
    "def word_list(txt):\n",
    "    return pal_text(txt).split()\n",
    "\n",
    "def word_list_length(words):\n",
    "    return len(word_list(words))\n",
    "\n",
    "def reverse_word_list(words):\n",
    "    return list(map(lambda x: x[::-1], word_list(words)[::-1]))\n",
    "\n",
    "def is_2D_palindrome(txt):\n",
    "    return word_list(txt) == reverse_word_list(txt)\n",
    "\n",
    "def is_1D_palindrome(txt):    \n",
    "    txt = ''.join(word_list(txt))\n",
    "    return txt == txt[::-1]\n",
    "\n",
    "\n",
    "def main():\n",
    "    phrase = input(\"Please enter a phrase to check if it is a palindrome: \")\n",
    "    print('The phrase to check is: \"{}\" and has {} word(s).'.format(phrase, word_list_length(phrase)))\n",
    "\n",
    "    if is_2D_palindrome(phrase):\n",
    "        print ('\"{}\" is a two-dimension palindrome.'.format(phrase))\n",
    "    elif is_1D_palindrome(phrase):\n",
    "        print ('\"{}\" is a one-dimension palindrome.'.format(phrase))\n",
    "    else:\n",
    "        print('\"{}\" is not a palindrome.'.format(phrase))\n",
    "\n",
    "if __name__ == '__main__':\n",
    "    main()"
   ]
  }
 ],
 "metadata": {
  "kernelspec": {
   "display_name": "Python 3",
   "language": "python",
   "name": "python3"
  },
  "language_info": {
   "codemirror_mode": {
    "name": "ipython",
    "version": 3
   },
   "file_extension": ".py",
   "mimetype": "text/x-python",
   "name": "python",
   "nbconvert_exporter": "python",
   "pygments_lexer": "ipython3",
   "version": "3.6.0"
  }
 },
 "nbformat": 4,
 "nbformat_minor": 2
}
