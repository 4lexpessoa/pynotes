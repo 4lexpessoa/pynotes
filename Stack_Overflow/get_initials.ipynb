{
 "cells": [
  {
   "cell_type": "markdown",
   "metadata": {},
   "source": [
    "#### [Get initials](https://stackoverflow.com/questions/46587523/python-need-assistance/46588444#46588444)\n",
    "\n",
    "Write a program that asks the user for their full name. The program should print the initials of the first, middle, and last name. If the middle name is “NA”, then the program should print only the initials of the first and the last name."
   ]
  },
  {
   "cell_type": "code",
   "execution_count": 20,
   "metadata": {
    "collapsed": false
   },
   "outputs": [
    {
     "data": {
      "text/plain": [
       "'J.N.S.'"
      ]
     },
     "execution_count": 20,
     "metadata": {},
     "output_type": "execute_result"
    }
   ],
   "source": [
    "def get_initials(name):\n",
    "    \"\"\" Return initials of first, last and middle name.\n",
    "    If the middle name is 'NA', return only the initials of the first and the last name.\n",
    "    \n",
    "    >>> get_initials(\"Alfred E. Newman\")\n",
    "    >>> 'A.E.N.'\n",
    "    >>> get_initials(\"John NA Smith\")\n",
    "    >>> 'J.S.'\n",
    "    \"\"\"\n",
    "    \n",
    "    first, middle, last = name.lower().split()\n",
    "    \n",
    "    if middle == 'na':\n",
    "        initials = first[0] + '.' + last[0] + '.'\n",
    "    else:\n",
    "        initials = first[0] + '.' + middle[0] + '.' + last[0] + '.'\n",
    "    \n",
    "    return initials.upper()   \n",
    "    \n",
    "\n",
    "get_initials(\"John norman smith\")"
   ]
  },
  {
   "cell_type": "code",
   "execution_count": 15,
   "metadata": {
    "collapsed": true
   },
   "outputs": [],
   "source": [
    "# Function used in main() to print \n",
    "# what each function returns vs. what it's supposed to return\n",
    "\n",
    "def test(returned, expected):\n",
    "    if returned == expected:\n",
    "        prefix = ' OK '\n",
    "    else:\n",
    "        prefix = '  X '\n",
    "    print('{0} returned: {1} expected: {2}'.format(prefix, repr(returned), repr(expected)))"
   ]
  },
  {
   "cell_type": "code",
   "execution_count": 21,
   "metadata": {
    "collapsed": false
   },
   "outputs": [
    {
     "name": "stdout",
     "output_type": "stream",
     "text": [
      "get_initials\n",
      " OK  returned: 'A.E.N.' expected: 'A.E.N.'\n",
      " OK  returned: 'J.S.' expected: 'J.S.'\n",
      " OK  returned: 'J.N.S.' expected: 'J.N.S.'\n"
     ]
    }
   ],
   "source": [
    "# Calls the above functions with interesting inputs.\n",
    "def main():\n",
    "    print('get_initials')\n",
    "    test(get_initials('Alfred e. newman'), 'A.E.N.')\n",
    "    test(get_initials(\"John NA Smith\"), 'J.S.')\n",
    "    test(get_initials(\"John norman smith\"), 'J.N.S.')    \n",
    "\n",
    "\n",
    "if __name__ == '__main__':\n",
    "    main()"
   ]
  }
 ],
 "metadata": {
  "kernelspec": {
   "display_name": "Python 3",
   "language": "python",
   "name": "python3"
  },
  "language_info": {
   "codemirror_mode": {
    "name": "ipython",
    "version": 3
   },
   "file_extension": ".py",
   "mimetype": "text/x-python",
   "name": "python",
   "nbconvert_exporter": "python",
   "pygments_lexer": "ipython3",
   "version": "3.6.0"
  }
 },
 "nbformat": 4,
 "nbformat_minor": 2
}
