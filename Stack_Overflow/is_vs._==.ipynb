{
 "cells": [
  {
   "cell_type": "markdown",
   "metadata": {},
   "source": [
    "#### [is vs. ==](https://stackoverflow.com/questions/46596946/wrong-boolean-result-in-simple-expression/46597282#46597282)\n",
    "\n",
    "Use `is` to see if two arguments refer to the same object and `==` to see if they have the same value."
   ]
  },
  {
   "cell_type": "markdown",
   "metadata": {},
   "source": [
    "```\n",
    ">>> a = 'this is some text.'\n",
    ">>> b = 'this is some text.'\n",
    ">>> a == b\n",
    "True\n",
    ">>> a is b\n",
    "False\n",
    "\n",
    ">>> a = 'this is some text.'\n",
    ">>> b = a\n",
    ">>> a == b\n",
    "True\n",
    ">>> a is b\n",
    "True\n",
    "```"
   ]
  }
 ],
 "metadata": {
  "kernelspec": {
   "display_name": "Python 3",
   "language": "python",
   "name": "python3"
  },
  "language_info": {
   "codemirror_mode": {
    "name": "ipython",
    "version": 3
   },
   "file_extension": ".py",
   "mimetype": "text/x-python",
   "name": "python",
   "nbconvert_exporter": "python",
   "pygments_lexer": "ipython3",
   "version": "3.6.0"
  }
 },
 "nbformat": 4,
 "nbformat_minor": 2
}
