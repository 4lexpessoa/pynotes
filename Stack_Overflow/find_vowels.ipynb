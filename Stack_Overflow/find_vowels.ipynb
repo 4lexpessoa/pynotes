{
 "cells": [
  {
   "cell_type": "markdown",
   "metadata": {},
   "source": [
    "#### Look for vowels in a word\n",
    "\n",
    "Define a function that takes a word as an argument, returns a list of truth values i.e., `True` for a vowel in the word, `False` for a non-vowel."
   ]
  },
  {
   "cell_type": "code",
   "execution_count": 13,
   "metadata": {
    "collapsed": false
   },
   "outputs": [
    {
     "data": {
      "text/plain": [
       "[False, True, False, True, False, False, True, False, False, True]"
      ]
     },
     "execution_count": 13,
     "metadata": {},
     "output_type": "execute_result"
    }
   ],
   "source": [
    "def find_vowels(word):\n",
    "    \"\"\" Return a list containing a True for a vowel in the word, a False for a non-vowel.\n",
    "    \n",
    "    >>> find_vowels('detestable')\n",
    "    >>> [False, True, False, True, False, False, True, False, False, True]\n",
    "    \"\"\"\n",
    "    \n",
    "    # This block can be replaced with this one-liner.\n",
    "    # return [True if char in 'aeiou' else False for char in word]\n",
    "    is_vowel = lambda ch: ch in 'aeiou'\n",
    "    return [is_vowel(char) for char in word]\n",
    "\n",
    "find_vowels('detestable')"
   ]
  },
  {
   "cell_type": "code",
   "execution_count": 19,
   "metadata": {
    "collapsed": true
   },
   "outputs": [],
   "source": [
    "# Function used in main() to print \n",
    "# what each function returns vs. what it's supposed to return\n",
    "\n",
    "def test(returned, expected):\n",
    "    if returned == expected:\n",
    "        prefix = ' OK '\n",
    "    else:\n",
    "        prefix = '  X '\n",
    "    print('{0} returned: {1} expected: {2}'.format(prefix, repr(returned), repr(expected)))"
   ]
  },
  {
   "cell_type": "code",
   "execution_count": 20,
   "metadata": {
    "collapsed": false
   },
   "outputs": [
    {
     "name": "stdout",
     "output_type": "stream",
     "text": [
      "find_vowels\n",
      " OK  returned: [False, True, False, False, True] expected: [False, True, False, False, True]\n",
      " OK  returned: [True, True, True, True, True] expected: [True, True, True, True, True]\n",
      " OK  returned: [False, False, False, False] expected: [False, False, False, False]\n"
     ]
    }
   ],
   "source": [
    "# Calls the above functions with interesting inputs.\n",
    "def main():\n",
    "    print('find_vowels')\n",
    "    test(find_vowels('hello'), [False, True, False, False, True])\n",
    "    test(find_vowels('aeiou'), [True, True, True, True, True])\n",
    "    test(find_vowels('myth'), [False, False, False, False])    \n",
    "\n",
    "\n",
    "if __name__ == '__main__':\n",
    "    main()"
   ]
  }
 ],
 "metadata": {
  "kernelspec": {
   "display_name": "Python 3",
   "language": "python",
   "name": "python3"
  },
  "language_info": {
   "codemirror_mode": {
    "name": "ipython",
    "version": 3
   },
   "file_extension": ".py",
   "mimetype": "text/x-python",
   "name": "python",
   "nbconvert_exporter": "python",
   "pygments_lexer": "ipython3",
   "version": "3.6.0"
  }
 },
 "nbformat": 4,
 "nbformat_minor": 2
}
