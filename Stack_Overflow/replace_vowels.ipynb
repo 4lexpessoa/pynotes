{
 "cells": [
  {
   "cell_type": "markdown",
   "metadata": {},
   "source": [
    "#### [Replacing vowels with whitespaces](https://stackoverflow.com/questions/46629519/replace-multiple-characters-in-a-string-at-once/46630010#46630010)\n",
    "\n",
    "Define a function that takes some text and returns the text with all the vowels in it replaced with  whitespaces."
   ]
  },
  {
   "cell_type": "code",
   "execution_count": 12,
   "metadata": {
    "collapsed": false
   },
   "outputs": [
    {
     "data": {
      "text/plain": [
       "\"B t, c n't d  w th  t th m.\""
      ]
     },
     "execution_count": 12,
     "metadata": {},
     "output_type": "execute_result"
    }
   ],
   "source": [
    "def replace_vowels(text):\n",
    "    \"\"\" Return the text after replacing the vowels in it with whitespaces.\n",
    "    \n",
    "    >>> replace_vowels(\"This Is fun.\")\n",
    "    >>> 'Th s  s f n.'\n",
    "    \"\"\"\n",
    "    \n",
    "    vowels = 'aeiouAEIOU'\n",
    "    space_for_vowel = str.maketrans(vowels, ' ' * len(vowels))\n",
    "    text = text.translate(space_for_vowel)\n",
    "    \n",
    "    return text\n",
    "\n",
    "replace_vowels(\"But, can't do without them.\")"
   ]
  },
  {
   "cell_type": "code",
   "execution_count": 10,
   "metadata": {
    "collapsed": true
   },
   "outputs": [],
   "source": [
    "# Function used in main() to print \n",
    "# what each function returns vs. what it's supposed to return\n",
    "\n",
    "def test(returned, expected):\n",
    "    if returned == expected:\n",
    "        prefix = ' OK '\n",
    "    else:\n",
    "        prefix = '  X '\n",
    "    print('{0} returned: {1} expected: {2}'.format(prefix, repr(returned), repr(expected)))"
   ]
  },
  {
   "cell_type": "code",
   "execution_count": 13,
   "metadata": {
    "collapsed": false
   },
   "outputs": [
    {
     "name": "stdout",
     "output_type": "stream",
     "text": [
      "replace_vowels\n",
      " OK  returned: 'n  v w ls pl  s ' expected: 'n  v w ls pl  s '\n",
      " OK  returned: \"B t, c n't d  w th  t th m.\" expected: \"B t, c n't d  w th  t th m.\"\n"
     ]
    }
   ],
   "source": [
    "# Calls the above functions with interesting inputs.\n",
    "def main():\n",
    "    print('replace_vowels')\n",
    "    test(replace_vowels(\"no vowels please\"), 'n  v w ls pl  s ')\n",
    "    test(replace_vowels(\"But, can't do without them.\"), \"B t, c n't d  w th  t th m.\")    \n",
    "\n",
    "\n",
    "if __name__ == '__main__':\n",
    "    main()"
   ]
  }
 ],
 "metadata": {
  "kernelspec": {
   "display_name": "Python 3",
   "language": "python",
   "name": "python3"
  },
  "language_info": {
   "codemirror_mode": {
    "name": "ipython",
    "version": 3
   },
   "file_extension": ".py",
   "mimetype": "text/x-python",
   "name": "python",
   "nbconvert_exporter": "python",
   "pygments_lexer": "ipython3",
   "version": "3.6.0"
  }
 },
 "nbformat": 4,
 "nbformat_minor": 2
}
