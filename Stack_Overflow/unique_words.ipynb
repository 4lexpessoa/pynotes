{
 "cells": [
  {
   "cell_type": "markdown",
   "metadata": {},
   "source": [
    "#### Words in a string that occur exactly once"
   ]
  },
  {
   "cell_type": "code",
   "execution_count": 2,
   "metadata": {
    "collapsed": false
   },
   "outputs": [
    {
     "data": {
      "text/plain": [
       "{'jumped', 'other', 'over'}"
      ]
     },
     "execution_count": 2,
     "metadata": {},
     "output_type": "execute_result"
    }
   ],
   "source": [
    "def unique_words(sentence):\n",
    "    \"\"\" Return a set of the words in a string that occur exactly once.\n",
    "    \n",
    "    >>> unique_words(\"The boy jumped over the other boy\")\n",
    "    >>> {'jumped', 'other', 'over'}\n",
    "    \"\"\"\n",
    "    \n",
    "    words = sentence.lower().split()\n",
    "    return set(word for word in words if words.count(word) == 1)\n",
    "\n",
    "unique_words(\"The boy jumped over the other boy\")"
   ]
  },
  {
   "cell_type": "markdown",
   "metadata": {},
   "source": [
    "If the input is considerably big, `collections.Counter()` is more efficient. Using this, the above function can be written like so:"
   ]
  },
  {
   "cell_type": "code",
   "execution_count": 12,
   "metadata": {
    "collapsed": false
   },
   "outputs": [
    {
     "data": {
      "text/plain": [
       "{'as', 'hard', 'is', 'no', 'so', 'the', 'timid'}"
      ]
     },
     "execution_count": 12,
     "metadata": {},
     "output_type": "execute_result"
    }
   ],
   "source": [
    "from collections import Counter\n",
    "\n",
    "def unique_words(sentence):\n",
    "    \"\"\" Return a set of the words in a string that occur exactly once.\n",
    "    \n",
    "    >>> unique_words(\"The boy jumped over the other boy\")\n",
    "    >>> {'jumped', 'other', 'over'}\n",
    "    \"\"\"\n",
    "    \n",
    "    words = Counter(sentence.lower().split())\n",
    "    return set(word for word, freq in words.items() if freq == 1)\n",
    "\n",
    "unique_words(\"No heart is so hard as the timid heart\")"
   ]
  },
  {
   "cell_type": "code",
   "execution_count": 16,
   "metadata": {
    "collapsed": true
   },
   "outputs": [],
   "source": [
    "# Function used in main() to print \n",
    "# what each function returns vs. what it's supposed to return\n",
    "\n",
    "def test(returned, expected):\n",
    "    if returned == expected:\n",
    "        prefix = ' OK '\n",
    "    else:\n",
    "        prefix = '  X '\n",
    "    print('{0} returned: {1} expected: {2}'.format(prefix, repr(returned), repr(expected)))"
   ]
  },
  {
   "cell_type": "code",
   "execution_count": 15,
   "metadata": {
    "collapsed": false
   },
   "outputs": [
    {
     "name": "stdout",
     "output_type": "stream",
     "text": [
      "unique_words\n",
      " OK  got: {'other', 'over', 'jumped'} expected: {'other', 'over', 'jumped'}\n",
      " OK  got: {'so', 'is', 'no', 'the', 'hard', 'timid', 'as'} expected: {'so', 'is', 'no', 'the', 'hard', 'timid', 'as'}\n"
     ]
    }
   ],
   "source": [
    "# Calls the above functions with interesting inputs.\n",
    "def main():\n",
    "    print('unique_words')\n",
    "    test(unique_words(\"The boy jumped over the other boy\"), {'jumped', 'other', 'over'})\n",
    "    test(unique_words(\"No heart is so hard as the timid heart\"), {'as', 'hard', 'is', 'no', 'so', 'the', 'timid'})    \n",
    "\n",
    "\n",
    "if __name__ == '__main__':\n",
    "    main()"
   ]
  }
 ],
 "metadata": {
  "kernelspec": {
   "display_name": "Python 3",
   "language": "python",
   "name": "python3"
  },
  "language_info": {
   "codemirror_mode": {
    "name": "ipython",
    "version": 3
   },
   "file_extension": ".py",
   "mimetype": "text/x-python",
   "name": "python",
   "nbconvert_exporter": "python",
   "pygments_lexer": "ipython3",
   "version": "3.6.0"
  }
 },
 "nbformat": 4,
 "nbformat_minor": 2
}
