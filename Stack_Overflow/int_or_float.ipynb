{
 "cells": [
  {
   "cell_type": "markdown",
   "metadata": {},
   "source": [
    "#### [See if a string is an integer or a float](https://stackoverflow.com/questions/46647744/checking-to-see-if-a-string-is-an-integer-or-float/46649057#46649057)\n",
    "\n",
    "This checks if the fractional-part has any non-zero digits."
   ]
  },
  {
   "cell_type": "code",
   "execution_count": null,
   "metadata": {
    "collapsed": false
   },
   "outputs": [],
   "source": [
    "def is_int(n):    \n",
    "    try:\n",
    "        float_n = float(n)\n",
    "        int_n = int(float_n)\n",
    "    except ValueError:\n",
    "        return False\n",
    "    else:\n",
    "        return float_n == int_n\n",
    "\n",
    "\n",
    "def is_float(n):    \n",
    "    try:\n",
    "        float_n = float(n)\n",
    "    except ValueError:\n",
    "        return False\n",
    "    else:\n",
    "        return True"
   ]
  },
  {
   "cell_type": "markdown",
   "metadata": {},
   "source": [
    "Testing the functions:"
   ]
  },
  {
   "cell_type": "code",
   "execution_count": 8,
   "metadata": {
    "collapsed": false
   },
   "outputs": [
    {
     "name": "stdout",
     "output_type": "stream",
     "text": [
      "12 can be safely converted to an integer.\n",
      "12.3 is a float with non-zero digit(s) in the fractional-part.\n",
      "12.0 can be safely converted to an integer.\n",
      "123.002 is a float with non-zero digit(s) in the fractional-part.\n"
     ]
    }
   ],
   "source": [
    "nums = ['12', '12.3', '12.0', '123.002']\n",
    "\n",
    "for num in nums:\n",
    "    if is_int(num):\n",
    "        print(num, 'can be safely converted to an integer.')\n",
    "    elif is_float(num):\n",
    "        print(num, 'is a float with non-zero digit(s) in the fractional-part.')"
   ]
  }
 ],
 "metadata": {
  "kernelspec": {
   "display_name": "Python 3",
   "language": "python",
   "name": "python3"
  },
  "language_info": {
   "codemirror_mode": {
    "name": "ipython",
    "version": 3
   },
   "file_extension": ".py",
   "mimetype": "text/x-python",
   "name": "python",
   "nbconvert_exporter": "python",
   "pygments_lexer": "ipython3",
   "version": "3.6.0"
  }
 },
 "nbformat": 4,
 "nbformat_minor": 2
}
