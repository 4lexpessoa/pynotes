{
 "cells": [
  {
   "cell_type": "markdown",
   "metadata": {},
   "source": [
    "#### `min` of a list\n",
    "\n",
    "This function assigns the min of a list to a new list, removes the value from the original list, returns the new list."
   ]
  },
  {
   "cell_type": "code",
   "execution_count": 9,
   "metadata": {
    "collapsed": false
   },
   "outputs": [
    {
     "data": {
      "text/plain": [
       "[3]"
      ]
     },
     "execution_count": 9,
     "metadata": {},
     "output_type": "execute_result"
    }
   ],
   "source": [
    "def get_min(numbers):\n",
    "    \"\"\" Return a new list with the smallest value in the input list.\n",
    "    Before returning the new list, remove the value from the original list.\n",
    "    \n",
    "    >>> get_min([3, 4, 1])\n",
    "    >>> [1]\n",
    "    \"\"\"\n",
    "    \n",
    "    smallest = min(numbers)\n",
    "    list_with_smallest = [smallest]\n",
    "    numbers.remove(smallest)\n",
    "    \n",
    "    return list_with_smallest\n",
    "\n",
    "get_min([3, 4, 5, 8])"
   ]
  },
  {
   "cell_type": "code",
   "execution_count": 6,
   "metadata": {
    "collapsed": true
   },
   "outputs": [],
   "source": [
    "# Function used in main() to print \n",
    "# what each function returns vs. what it's supposed to return\n",
    "\n",
    "def test(returned, expected):\n",
    "    if returned == expected:\n",
    "        prefix = ' OK '\n",
    "    else:\n",
    "        prefix = '  X '\n",
    "    print('{0} returned: {1} expected: {2}'.format(prefix, repr(returned), repr(expected)))"
   ]
  },
  {
   "cell_type": "code",
   "execution_count": 8,
   "metadata": {
    "collapsed": false
   },
   "outputs": [
    {
     "name": "stdout",
     "output_type": "stream",
     "text": [
      "get_min\n",
      " OK  got: [10] expected: [10]\n",
      " OK  got: [-28] expected: [-28]\n"
     ]
    }
   ],
   "source": [
    "# Calls the above functions with interesting inputs.\n",
    "def main():\n",
    "    print('get_min')\n",
    "    test(get_min([10, 25, 28]), [10])\n",
    "    test(get_min([-10, -25, -28]), [-28])\n",
    "\n",
    "\n",
    "if __name__ == '__main__':\n",
    "    main()"
   ]
  }
 ],
 "metadata": {
  "kernelspec": {
   "display_name": "Python 3",
   "language": "python",
   "name": "python3"
  },
  "language_info": {
   "codemirror_mode": {
    "name": "ipython",
    "version": 3
   },
   "file_extension": ".py",
   "mimetype": "text/x-python",
   "name": "python",
   "nbconvert_exporter": "python",
   "pygments_lexer": "ipython3",
   "version": "3.6.0"
  }
 },
 "nbformat": 4,
 "nbformat_minor": 2
}
