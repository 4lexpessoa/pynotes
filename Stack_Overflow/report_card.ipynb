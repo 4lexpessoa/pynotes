{
 "cells": [
  {
   "cell_type": "markdown",
   "metadata": {},
   "source": [
    "#### Grading scores\n",
    "\n",
    "Create a function that returns a report card with name, score, and grade based on score."
   ]
  },
  {
   "cell_type": "code",
   "execution_count": 68,
   "metadata": {
    "collapsed": false
   },
   "outputs": [
    {
     "data": {
      "text/plain": [
       "OrderedDict([('Name', 'Kavi'), ('Score', 80), ('Grade', 'Excellent')])"
      ]
     },
     "execution_count": 68,
     "metadata": {},
     "output_type": "execute_result"
    }
   ],
   "source": [
    "from collections import OrderedDict\n",
    "\n",
    "def get_report_card(name, score):\n",
    "    \"\"\" Return a report card with name, score, and grade based on score.\n",
    "    \n",
    "    >>> grade('Sri', 19)\n",
    "    >>> '{\"Name\": \"Sri\", \"Score\": 19, \"Grade\": \"Appalling\"}'\n",
    "    \"\"\"\n",
    "\n",
    "    grade = ''\n",
    "\n",
    "    if score >= 75:\n",
    "        grade = 'Excellent'\n",
    "    elif score >= 60:\n",
    "        grade = 'Very good'\n",
    "    elif score >= 50:\n",
    "        grade = 'Good'\n",
    "    elif score >= 40:\n",
    "        grade = 'Not bad'\n",
    "    elif score >= 30:\n",
    "        grade = 'Bad'\n",
    "    elif score >= 20:\n",
    "        grade = 'Horrible'\n",
    "    else:\n",
    "        grade = 'Appalling'    \n",
    "    \n",
    "    report_card = OrderedDict([('Name', name), ('Score', score), ('Grade', grade)])\n",
    "    \n",
    "    return report_card\n",
    "\n",
    "\n",
    "get_report_card('Kavi', 80)"
   ]
  },
  {
   "cell_type": "markdown",
   "metadata": {},
   "source": [
    "As with a dict, you can iterate an OrderedDict:"
   ]
  },
  {
   "cell_type": "code",
   "execution_count": 66,
   "metadata": {
    "collapsed": false
   },
   "outputs": [
    {
     "name": "stdout",
     "output_type": "stream",
     "text": [
      "Name: Sri\n",
      "Score: 19\n",
      "Grade: Appalling\n"
     ]
    }
   ],
   "source": [
    "for k, v in get_report_card('Sri', 19).items():\n",
    "    print(\"{}: {}\".format(k, v))"
   ]
  },
  {
   "cell_type": "code",
   "execution_count": 50,
   "metadata": {
    "collapsed": true
   },
   "outputs": [],
   "source": [
    "# Function used in main() to print \n",
    "# what each function returns vs. what it's supposed to return\n",
    "\n",
    "def test(returned, expected):\n",
    "    if returned == expected:\n",
    "        prefix = ' OK '\n",
    "    else:\n",
    "        prefix = '  X '\n",
    "    print('{0} returned: {1} expected: {2}'.format(prefix, repr(returned), repr(expected)))"
   ]
  },
  {
   "cell_type": "code",
   "execution_count": 71,
   "metadata": {
    "collapsed": false
   },
   "outputs": [
    {
     "name": "stdout",
     "output_type": "stream",
     "text": [
      "get_report_card\n",
      " OK  got: OrderedDict([('Name', 'Sri'), ('Score', 19), ('Grade', 'Appalling')]) expected: OrderedDict([('Name', 'Sri'), ('Score', 19), ('Grade', 'Appalling')])\n",
      " OK  got: OrderedDict([('Name', 'Kavi'), ('Score', 80), ('Grade', 'Excellent')]) expected: OrderedDict([('Name', 'Kavi'), ('Score', 80), ('Grade', 'Excellent')])\n"
     ]
    }
   ],
   "source": [
    "# Calls the above functions with interesting inputs.\n",
    "def main():\n",
    "    print('get_report_card')\n",
    "    test(get_report_card('Sri', 19), \n",
    "         OrderedDict([('Name', 'Sri'), ('Score', 19), ('Grade', 'Appalling')]))\n",
    "    test(get_report_card('Kavi', 80),\n",
    "         OrderedDict([('Name', 'Kavi'), ('Score', 80), ('Grade', 'Excellent')]))    \n",
    "\n",
    "\n",
    "if __name__ == '__main__':\n",
    "    main()"
   ]
  }
 ],
 "metadata": {
  "kernelspec": {
   "display_name": "Python 3",
   "language": "python",
   "name": "python3"
  },
  "language_info": {
   "codemirror_mode": {
    "name": "ipython",
    "version": 3
   },
   "file_extension": ".py",
   "mimetype": "text/x-python",
   "name": "python",
   "nbconvert_exporter": "python",
   "pygments_lexer": "ipython3",
   "version": "3.6.0"
  }
 },
 "nbformat": 4,
 "nbformat_minor": 2
}
