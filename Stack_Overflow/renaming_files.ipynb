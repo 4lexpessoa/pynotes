{
 "cells": [
  {
   "cell_type": "markdown",
   "metadata": {},
   "source": [
    "#### [Renaming a list of files in a folder](https://stackoverflow.com/questions/46645015/rename-a-list-of-filename-in-a-folder-using-python/46647609#46647609)\n",
    "\n",
    "You could use this if all the files in the path are WAV and their names have the pattern as shown here.\n",
    "\n",
    "##### Input\n",
    "01h02m02s.wav  \n",
    "01h02m13s.wav  \n",
    "01h02m24s.wav  \n",
    "\n",
    "##### Output\n",
    "3722s.wav  \n",
    "3733s.wav  \n",
    "3744s.wav  "
   ]
  },
  {
   "cell_type": "code",
   "execution_count": null,
   "metadata": {
    "collapsed": false
   },
   "outputs": [],
   "source": [
    "import os\n",
    "\n",
    "path = r'C:\\Users\\Desktop\\Data'\n",
    "waves = os.listdir(path)\n",
    "\n",
    "for wave in waves:\n",
    "    hours, minutes, seconds = map(int, [wave[:2], wave[3:5], wave[6:8]])\n",
    "    total_seconds = hours * 3600 + minutes * 60 + seconds\n",
    "    new_name = os.path.join(path, \"{}s.wav\".format(total_seconds))\n",
    "\n",
    "    os.rename(os.path.join(path, wave), new_name)"
   ]
  }
 ],
 "metadata": {
  "kernelspec": {
   "display_name": "Python 3",
   "language": "python",
   "name": "python3"
  },
  "language_info": {
   "codemirror_mode": {
    "name": "ipython",
    "version": 3
   },
   "file_extension": ".py",
   "mimetype": "text/x-python",
   "name": "python",
   "nbconvert_exporter": "python",
   "pygments_lexer": "ipython3",
   "version": "3.6.0"
  }
 },
 "nbformat": 4,
 "nbformat_minor": 2
}
