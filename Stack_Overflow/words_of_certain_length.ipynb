{
 "cells": [
  {
   "cell_type": "markdown",
   "metadata": {},
   "source": [
    "#### [Pick words of certain length](https://stackoverflow.com/questions/46597310/how-to-ignore-punctuation-when-counting-characters-in-string-in-python/46597607#46597607) from a string, but ignore punctuation"
   ]
  },
  {
   "cell_type": "code",
   "execution_count": 10,
   "metadata": {
    "collapsed": false
   },
   "outputs": [
    {
     "data": {
      "text/plain": [
       "['cat', 'bat', 'rat']"
      ]
     },
     "execution_count": 10,
     "metadata": {},
     "output_type": "execute_result"
    }
   ],
   "source": [
    "from string import punctuation\n",
    "\n",
    "def find_words_of_length(number, text):\n",
    "    \"\"\" Remove punctuation from text, then return words of length number.\n",
    "    \n",
    "    >>> find_words_of_length(4, \"this is a string with some four-letter words.\")\n",
    "    >>> ['this', 'with', 'some']\n",
    "    \"\"\"\n",
    "    \n",
    "    text = ''.join(char for char in text if char not in punctuation)\n",
    "    words = [word for word in text.split() if len(word) == number]\n",
    "    return words\n",
    "\n",
    "find_words_of_length(3, \"3-letter words: cat, bat, rat \")"
   ]
  },
  {
   "cell_type": "code",
   "execution_count": 9,
   "metadata": {
    "collapsed": true
   },
   "outputs": [],
   "source": [
    "# Function used in main() to print \n",
    "# what each function returns vs. what it's supposed to return\n",
    "\n",
    "def test(returned, expected):\n",
    "    if returned == expected:\n",
    "        prefix = ' OK '\n",
    "    else:\n",
    "        prefix = '  X '\n",
    "    print('{0} returned: {1} expected: {2}'.format(prefix, repr(returned), repr(expected)))"
   ]
  },
  {
   "cell_type": "code",
   "execution_count": 11,
   "metadata": {
    "collapsed": false
   },
   "outputs": [
    {
     "name": "stdout",
     "output_type": "stream",
     "text": [
      "find_words_of_length\n",
      " OK  returned: ['this', 'with', 'some'] expected: ['this', 'with', 'some']\n",
      " OK  returned: ['cat', 'bat', 'rat'] expected: ['cat', 'bat', 'rat']\n"
     ]
    }
   ],
   "source": [
    "# Calls the above functions with interesting inputs.\n",
    "def main():\n",
    "    print('find_words_of_length')\n",
    "    test(find_words_of_length(4, \"'thi's is a string with some! bad punctuation.\"), \n",
    "         ['this', 'with', 'some'])\n",
    "    test(find_words_of_length(3, \"3-letter words: cat, bat, rat \"),\n",
    "         ['cat', 'bat', 'rat'])    \n",
    "\n",
    "\n",
    "if __name__ == '__main__':\n",
    "    main()"
   ]
  }
 ],
 "metadata": {
  "kernelspec": {
   "display_name": "Python 3",
   "language": "python",
   "name": "python3"
  },
  "language_info": {
   "codemirror_mode": {
    "name": "ipython",
    "version": 3
   },
   "file_extension": ".py",
   "mimetype": "text/x-python",
   "name": "python",
   "nbconvert_exporter": "python",
   "pygments_lexer": "ipython3",
   "version": "3.6.0"
  }
 },
 "nbformat": 4,
 "nbformat_minor": 2
}
