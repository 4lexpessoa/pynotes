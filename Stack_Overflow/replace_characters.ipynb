{
 "cells": [
  {
   "cell_type": "markdown",
   "metadata": {},
   "source": [
    "#### Replacing multiple characters in a string\n",
    "\n",
    "The function below replaces any character(s) with any other character(s)."
   ]
  },
  {
   "cell_type": "code",
   "execution_count": 7,
   "metadata": {
    "collapsed": false
   },
   "outputs": [
    {
     "data": {
      "text/plain": [
       "'bcd xyz'"
      ]
     },
     "execution_count": 7,
     "metadata": {},
     "output_type": "execute_result"
    }
   ],
   "source": [
    "def replace(text, old_chars, new_chars):\n",
    "    \"\"\" Return text with old chars replaced with new chars.\n",
    "    \n",
    "    >>> replace('heWlXo theYreZ', 'WXYZ', 'YZWX')\n",
    "    >>> 'heYlZo theWreX'\n",
    "    \"\"\"\n",
    "    \n",
    "    trans = str.maketrans(old_chars, new_chars)\n",
    "    return text.translate(trans)\n",
    "\n",
    "replace('abc xyz', 'abc', 'bcd')"
   ]
  },
  {
   "cell_type": "code",
   "execution_count": 2,
   "metadata": {
    "collapsed": true
   },
   "outputs": [],
   "source": [
    "# Function used in main() to print \n",
    "# what each function returns vs. what it's supposed to return\n",
    "\n",
    "def test(returned, expected):\n",
    "    if returned == expected:\n",
    "        prefix = ' OK '\n",
    "    else:\n",
    "        prefix = '  X '\n",
    "    print('{0} returned: {1} expected: {2}'.format(prefix, repr(returned), repr(expected)))"
   ]
  },
  {
   "cell_type": "code",
   "execution_count": 9,
   "metadata": {
    "collapsed": false
   },
   "outputs": [
    {
     "name": "stdout",
     "output_type": "stream",
     "text": [
      "replace\n",
      " OK  got: 'heYlZo theWreX' expected: 'heYlZo theWreX'\n",
      " OK  got: 'bcd xyz' expected: 'bcd xyz'\n"
     ]
    }
   ],
   "source": [
    "# Calls the above functions with interesting inputs.\n",
    "def main():\n",
    "    print('replace')\n",
    "    test(replace('heWlXo theYreZ', 'WXYZ', 'YZWX'), 'heYlZo theWreX')\n",
    "    test(replace('abc xyz', 'abc', 'bcd'), 'bcd xyz')\n",
    "\n",
    "if __name__ == '__main__':\n",
    "    main()"
   ]
  }
 ],
 "metadata": {
  "kernelspec": {
   "display_name": "Python 3",
   "language": "python",
   "name": "python3"
  },
  "language_info": {
   "codemirror_mode": {
    "name": "ipython",
    "version": 3
   },
   "file_extension": ".py",
   "mimetype": "text/x-python",
   "name": "python",
   "nbconvert_exporter": "python",
   "pygments_lexer": "ipython3",
   "version": "3.6.0"
  }
 },
 "nbformat": 4,
 "nbformat_minor": 2
}
