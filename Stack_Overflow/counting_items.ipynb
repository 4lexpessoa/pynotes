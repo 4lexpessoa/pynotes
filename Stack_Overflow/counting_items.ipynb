{
 "cells": [
  {
   "cell_type": "markdown",
   "metadata": {},
   "source": [
    "#### [Counting list items](https://stackoverflow.com/questions/46617916/python-about-how-to-combine-repeated-string/46618185#46618185)\n",
    "\n",
    "Create a function that returns a dictionary of the items of a list and their counts."
   ]
  },
  {
   "cell_type": "code",
   "execution_count": 5,
   "metadata": {
    "collapsed": false
   },
   "outputs": [
    {
     "data": {
      "text/plain": [
       "{'one': 1, 'three': 3, 'two': 2}"
      ]
     },
     "execution_count": 5,
     "metadata": {},
     "output_type": "execute_result"
    }
   ],
   "source": [
    "def count_items(lst):    \n",
    "    \"\"\" Return counts of the list items.\n",
    "    \n",
    "    >>> count_items(['one', 'two', 'two', 'three', 'three', 'three'])\n",
    "    >>> {'one': 1, 'three': 3, 'two': 2}\n",
    "    \"\"\"\n",
    "\n",
    "    counts = {item: lst.count(item) for item in lst}\n",
    "    return counts\n",
    "\n",
    "count_items(['one', 'two', 'two', 'three', 'three', 'three'])"
   ]
  },
  {
   "cell_type": "markdown",
   "metadata": {},
   "source": [
    "Now, call the function with a list and print its items and their counts in two columns, like so:"
   ]
  },
  {
   "cell_type": "code",
   "execution_count": 2,
   "metadata": {
    "collapsed": false
   },
   "outputs": [
    {
     "name": "stdout",
     "output_type": "stream",
     "text": [
      "Input           Output\n",
      "abc               3\n",
      "cde               2\n",
      "fgh               1\n",
      "ijk               2\n"
     ]
    }
   ],
   "source": [
    "lst = ['abc', 'cde', 'abc', 'fgh', 'ijk', 'cde', 'abc', 'ijk']\n",
    "\n",
    "print(\"{0: <15} {1}\".format(\"Input\", \"Output\")) # adjust column width as needed\n",
    "\n",
    "for key, value in count_items(lst).items():    \n",
    "    print(\"{0: <17} {1}\".format(key, value))"
   ]
  },
  {
   "cell_type": "markdown",
   "metadata": {},
   "source": [
    "If you've lists that are quite big, `collections.Counter` is more efficient:"
   ]
  },
  {
   "cell_type": "code",
   "execution_count": 3,
   "metadata": {
    "collapsed": false
   },
   "outputs": [
    {
     "name": "stdout",
     "output_type": "stream",
     "text": [
      "Input           Output\n",
      "abc               3\n",
      "cde               2\n",
      "fgh               1\n",
      "ijk               2\n"
     ]
    }
   ],
   "source": [
    "from collections import Counter\n",
    "\n",
    "def count_items(lst):\n",
    "    \"\"\" Return counts of the list items. \"\"\"    \n",
    "    return Counter(lst)    \n",
    "\n",
    "lst = ['abc', 'cde', 'abc', 'fgh', 'ijk', 'cde', 'abc', 'ijk']\n",
    "\n",
    "print(\"{0: <15} {1}\".format(\"Input\", \"Output\")) # adjust column width as needed\n",
    "\n",
    "for key, value in count_items(lst).items():\n",
    "    print(\"{0: <17} {1}\".format(key, value))"
   ]
  }
 ],
 "metadata": {
  "kernelspec": {
   "display_name": "Python 3",
   "language": "python",
   "name": "python3"
  },
  "language_info": {
   "codemirror_mode": {
    "name": "ipython",
    "version": 3
   },
   "file_extension": ".py",
   "mimetype": "text/x-python",
   "name": "python",
   "nbconvert_exporter": "python",
   "pygments_lexer": "ipython3",
   "version": "3.6.0"
  }
 },
 "nbformat": 4,
 "nbformat_minor": 2
}
