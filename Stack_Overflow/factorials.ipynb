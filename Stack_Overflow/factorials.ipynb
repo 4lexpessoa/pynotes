{
 "cells": [
  {
   "cell_type": "markdown",
   "metadata": {},
   "source": [
    "#### [Factorials of a list of numbers](https://stackoverflow.com/questions/46598305/find-factorial-of-a-list-of-numbers/46598459#46598459)\n",
    "\n",
    "Finding factorials using `math.factorial`"
   ]
  },
  {
   "cell_type": "code",
   "execution_count": 5,
   "metadata": {
    "collapsed": false
   },
   "outputs": [
    {
     "data": {
      "text/plain": [
       "[5040, 362880, 39916800]"
      ]
     },
     "execution_count": 5,
     "metadata": {},
     "output_type": "execute_result"
    }
   ],
   "source": [
    "from math import factorial\n",
    "\n",
    "def factorialize(numbers):\n",
    "    \"\"\" Return factorials of a list of numbers.\n",
    "    \n",
    "    >>> factorialize([1, 2, 3, 4, 5])\n",
    "    >>> [1, 2, 6, 24, 120]\n",
    "    \"\"\"\n",
    "\n",
    "    return [factorial(number) for number in numbers]\n",
    "\n",
    "factorialize([7, 9, 11])"
   ]
  },
  {
   "cell_type": "code",
   "execution_count": 12,
   "metadata": {
    "collapsed": false
   },
   "outputs": [
    {
     "name": "stdout",
     "output_type": "stream",
     "text": [
      "Factorial of 2 is 2\n",
      "Factorial of 4 is 24\n",
      "Factorial of 6 is 720\n"
     ]
    }
   ],
   "source": [
    "numbers = [2, 4, 6]\n",
    "\n",
    "for index, fact in enumerate(factorialize(numbers)):    \n",
    "    print(\"Factorial of {} is {}\".format(numbers[index], fact))"
   ]
  },
  {
   "cell_type": "code",
   "execution_count": 4,
   "metadata": {
    "collapsed": true
   },
   "outputs": [],
   "source": [
    "# Function used in main() to print \n",
    "# what each function returns vs. what it's supposed to return\n",
    "\n",
    "def test(returned, expected):\n",
    "    if returned == expected:\n",
    "        prefix = ' OK '\n",
    "    else:\n",
    "        prefix = '  X '\n",
    "    print('{0} returned: {1} expected: {2}'.format(prefix, repr(returned), repr(expected)))"
   ]
  },
  {
   "cell_type": "code",
   "execution_count": 10,
   "metadata": {
    "collapsed": false
   },
   "outputs": [
    {
     "name": "stdout",
     "output_type": "stream",
     "text": [
      "factorialize\n",
      " OK  returned: [1, 2, 6, 24, 120] expected: [1, 2, 6, 24, 120]\n",
      " OK  returned: [5040, 362880, 39916800] expected: [5040, 362880, 39916800]\n"
     ]
    }
   ],
   "source": [
    "# Calls the above functions with interesting inputs.\n",
    "def main():\n",
    "    print('factorialize')\n",
    "    test(factorialize([1, 2, 3, 4, 5]), [1, 2, 6, 24, 120])\n",
    "    test(factorialize([7, 9, 11]), [5040, 362880, 39916800])    \n",
    "\n",
    "\n",
    "if __name__ == '__main__':\n",
    "    main()"
   ]
  }
 ],
 "metadata": {
  "kernelspec": {
   "display_name": "Python 3",
   "language": "python",
   "name": "python3"
  },
  "language_info": {
   "codemirror_mode": {
    "name": "ipython",
    "version": 3
   },
   "file_extension": ".py",
   "mimetype": "text/x-python",
   "name": "python",
   "nbconvert_exporter": "python",
   "pygments_lexer": "ipython3",
   "version": "3.6.0"
  }
 },
 "nbformat": 4,
 "nbformat_minor": 2
}
