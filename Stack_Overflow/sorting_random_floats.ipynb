{
 "cells": [
  {
   "cell_type": "markdown",
   "metadata": {},
   "source": [
    "#### [Sorted random floating numbers](https://stackoverflow.com/questions/46603204/how-to-sort-random-floating-numbers/46604352#46604352)\n",
    "\n",
    "Generate a specific series of random floating numbers and sort them from lowest to highest."
   ]
  },
  {
   "cell_type": "code",
   "execution_count": 9,
   "metadata": {
    "collapsed": false
   },
   "outputs": [
    {
     "data": {
      "text/plain": [
       "['1.434', '1.877', '2.265', '2.957']"
      ]
     },
     "execution_count": 9,
     "metadata": {},
     "output_type": "execute_result"
    }
   ],
   "source": [
    "import random\n",
    "\n",
    "def generate_floats(start, end, how_many):\n",
    "    \"\"\" Return a list of sorted random floats in the (start, end) range.\n",
    "    \n",
    "    >>> generate_floats(3, 6, 5)\n",
    "    >>> ['4.125', '4.622', '4.835', '4.981', '5.364']\n",
    "    \"\"\"\n",
    "    \n",
    "    random_floats = ['{:2.3f}'.format(random.uniform(start, end)) \n",
    "                     for _ in range(how_many)]             # '_' is a throwaway variable    \n",
    "    \n",
    "    random_floats.sort()\n",
    "    \n",
    "    return random_floats\n",
    "\n",
    "generate_floats(1, 3, 4)"
   ]
  }
 ],
 "metadata": {
  "kernelspec": {
   "display_name": "Python 3",
   "language": "python",
   "name": "python3"
  },
  "language_info": {
   "codemirror_mode": {
    "name": "ipython",
    "version": 3
   },
   "file_extension": ".py",
   "mimetype": "text/x-python",
   "name": "python",
   "nbconvert_exporter": "python",
   "pygments_lexer": "ipython3",
   "version": "3.6.0"
  }
 },
 "nbformat": 4,
 "nbformat_minor": 2
}
