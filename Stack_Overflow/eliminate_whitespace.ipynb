{
 "cells": [
  {
   "cell_type": "markdown",
   "metadata": {},
   "source": [
    "#### Use regex to [eliminate whitespace](https://stackoverflow.com/questions/46585436/eliminate-white-spaces-between-words-using-regex-in-python/46586108#46586108) between two specific words\n",
    "\n",
    "Define a function that takes some text as input, looks for occurrences of two specific words with a space(s) between them, replaces them all with concatenation of the two words with no space(s) in between, and return the edited text."
   ]
  },
  {
   "cell_type": "code",
   "execution_count": 68,
   "metadata": {
    "collapsed": false
   },
   "outputs": [
    {
     "data": {
      "text/plain": [
       "'an appstore app maker appstore'"
      ]
     },
     "execution_count": 68,
     "metadata": {},
     "output_type": "execute_result"
    }
   ],
   "source": [
    "import re\n",
    "\n",
    "def remove_spaces(text, word_one, word_two):\n",
    "    \"\"\" Return text after removing whitespace(s) between two specific words.\n",
    "    \n",
    "    >>> remove_spaces(\"an app store app maker app    store\", \"app\", \"store\")\n",
    "    >>> 'an appstore, app maker, appstore'\n",
    "    \"\"\"\n",
    "    \n",
    "    pattern = re.compile(r'{}[\\s]*{}'.format(word_one, word_two))    # zero or more spaces\n",
    "    replacement = word_one + word_two\n",
    "    result = re.sub(pattern, replacement, text)\n",
    "    \n",
    "    return result\n",
    "\n",
    "remove_spaces(\"an app store app maker app    store\", \"app\", \"store\")"
   ]
  },
  {
   "cell_type": "code",
   "execution_count": 62,
   "metadata": {
    "collapsed": true
   },
   "outputs": [],
   "source": [
    "# Function used in main() to print \n",
    "# what each function returns vs. what it's supposed to return\n",
    "\n",
    "def test(returned, expected):\n",
    "    if returned == expected:\n",
    "        prefix = ' OK '\n",
    "    else:\n",
    "        prefix = '  X '\n",
    "    print('{0} returned: {1} expected: {2}'.format(prefix, repr(returned), repr(expected)))"
   ]
  },
  {
   "cell_type": "code",
   "execution_count": 67,
   "metadata": {
    "collapsed": false
   },
   "outputs": [
    {
     "name": "stdout",
     "output_type": "stream",
     "text": [
      "remove_spaces\n",
      " OK  returned: 'an appstore app maker appstore' expected: 'an appstore app maker appstore'\n",
      " OK  returned: 'a carmaker is a carmaker' expected: 'a carmaker is a carmaker'\n"
     ]
    }
   ],
   "source": [
    "# Calls the above functions with interesting inputs.\n",
    "def main():\n",
    "    print('remove_spaces')\n",
    "    test(remove_spaces(\"an app store app maker app    store\", \"app\", \"store\"),\n",
    "         'an appstore app maker appstore')\n",
    "    test(remove_spaces(\"a car maker is a car    maker\", 'car', 'maker'),\n",
    "         'a carmaker is a carmaker')\n",
    "    \n",
    "\n",
    "if __name__ == '__main__':\n",
    "    main()"
   ]
  }
 ],
 "metadata": {
  "kernelspec": {
   "display_name": "Python 3",
   "language": "python",
   "name": "python3"
  },
  "language_info": {
   "codemirror_mode": {
    "name": "ipython",
    "version": 3
   },
   "file_extension": ".py",
   "mimetype": "text/x-python",
   "name": "python",
   "nbconvert_exporter": "python",
   "pygments_lexer": "ipython3",
   "version": "3.6.0"
  }
 },
 "nbformat": 4,
 "nbformat_minor": 2
}
