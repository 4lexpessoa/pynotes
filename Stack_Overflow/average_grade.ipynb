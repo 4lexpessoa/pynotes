{
 "cells": [
  {
   "cell_type": "markdown",
   "metadata": {},
   "source": [
    "#### Average grade\n",
    "\n",
    "Define a function that takes a list of lists and returns a new list of lists with a student's name and their average grade in each sublist."
   ]
  },
  {
   "cell_type": "code",
   "execution_count": 2,
   "metadata": {
    "collapsed": false
   },
   "outputs": [
    {
     "data": {
      "text/plain": [
       "[['Alice', 65.5], ['Joe', 66.8]]"
      ]
     },
     "execution_count": 2,
     "metadata": {},
     "output_type": "execute_result"
    }
   ],
   "source": [
    "def average_grade(lst):\n",
    "    \"\"\" Return students' names and their average grades.\n",
    "    \n",
    "    >>> average_grade([['Bob', 56, 80, 72, 90], ['Alice', 60, 88, 44, 70]])\n",
    "    >>> [['Bob', 74.5], ['Alice', 65.5]]\n",
    "    \"\"\"\n",
    "\n",
    "    # This whole block can be replaced with this one-liner:\n",
    "    # return [[sub[0], sum(sub[1:]) / len(sub[1:])] for sub in lst]\n",
    "\n",
    "    averages = []\n",
    "\n",
    "    for sublist in lst:\n",
    "        student = sublist[0]\n",
    "        grades = sublist[1:]\n",
    "        average = sum(grades) / len(grades)\n",
    "        averages.append([student, average])\n",
    "\n",
    "    return averages\n",
    "\n",
    "average_grade([['Alice', 60, 88, 44, 70], ['Joe', 44, 100, 80, 60, 50]])"
   ]
  },
  {
   "cell_type": "code",
   "execution_count": 3,
   "metadata": {
    "collapsed": true
   },
   "outputs": [],
   "source": [
    "# Function used in main() to print \n",
    "# what each function returns vs. what it's supposed to return\n",
    "\n",
    "def test(returned, expected):\n",
    "    if returned == expected:\n",
    "        prefix = ' OK '\n",
    "    else:\n",
    "        prefix = '  X '\n",
    "    print('{0} returned: {1} expected: {2}'.format(prefix, repr(returned), repr(expected)))"
   ]
  },
  {
   "cell_type": "code",
   "execution_count": 6,
   "metadata": {
    "collapsed": false
   },
   "outputs": [
    {
     "name": "stdout",
     "output_type": "stream",
     "text": [
      "average_grade\n",
      " OK  returned: [['Alice', 65.5], ['Joe', 66.8]] expected: [['Alice', 65.5], ['Joe', 66.8]]\n",
      " OK  returned: [['Bob', 74.5], ['Alice', 65.5]] expected: [['Bob', 74.5], ['Alice', 65.5]]\n"
     ]
    }
   ],
   "source": [
    "# Calls the above functions with interesting inputs.\n",
    "def main():\n",
    "    print('average_grade')\n",
    "    test(average_grade([['Alice', 60, 88, 44, 70], ['Joe', 44, 100, 80, 60, 50]]),\n",
    "         [['Alice', 65.5], ['Joe', 66.8]])\n",
    "    test(average_grade([['Bob', 56, 80, 72, 90], ['Alice', 60, 88, 44, 70]]),\n",
    "         [['Bob', 74.5], ['Alice', 65.5]])    \n",
    "\n",
    "\n",
    "if __name__ == '__main__':\n",
    "    main()"
   ]
  }
 ],
 "metadata": {
  "kernelspec": {
   "display_name": "Python 3",
   "language": "python",
   "name": "python3"
  },
  "language_info": {
   "codemirror_mode": {
    "name": "ipython",
    "version": 3
   },
   "file_extension": ".py",
   "mimetype": "text/x-python",
   "name": "python",
   "nbconvert_exporter": "python",
   "pygments_lexer": "ipython3",
   "version": "3.6.0"
  }
 },
 "nbformat": 4,
 "nbformat_minor": 2
}
