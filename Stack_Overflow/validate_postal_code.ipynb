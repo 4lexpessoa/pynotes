{
 "cells": [
  {
   "cell_type": "markdown",
   "metadata": {},
   "source": [
    "#### Validate Postal Code (Canadian)\n",
    "\n",
    "According to the [exercise](https://cscircles.cemc.uwaterloo.ca/14-methods/), define a function postalValidate(S) which first checks if S represents a postal code (Canadian) which is valid:\n",
    "\n",
    "..* first, delete all spaces;\n",
    "..* the remainder must be of the form L#L#L# where L are letters (in\n",
    "either lower or upper case) and # are numbers.\n",
    "\n",
    "If S is not a valid postal code, return the boolean False. If S is valid, return a version of the same postal code in the nice format L#L#L# where each L is capital.\n",
    "\n",
    "The following methods that they’ve just covered are supposed to be used:\n",
    "\n",
    "`str.replace()`, `str.isalpha()`, `str.isdigit()`, and `str.upper()`\n",
    "\n",
    "Their site doesn't allow importing modules, so regular expressions cannot be used.\n",
    "\n",
    "Here’s my code:"
   ]
  },
  {
   "cell_type": "code",
   "execution_count": 1,
   "metadata": {
    "collapsed": false
   },
   "outputs": [
    {
     "data": {
      "text/plain": [
       "'D3L3T3'"
      ]
     },
     "execution_count": 1,
     "metadata": {},
     "output_type": "execute_result"
    }
   ],
   "source": [
    "def postalValidate(S):\n",
    "    \"\"\" Return False if S is not a valid postal code.\n",
    "    If S is valid, return it in the format L#L#L# where each L is capital.\n",
    "    \n",
    "    >>> postalValidate('d3 L3 T3')\n",
    "    >>> 'D3L3T3'\n",
    "    \"\"\"\n",
    "    \n",
    "    S = S.replace(' ', '')\n",
    "    if len(S) == 6:\n",
    "        if S[::2].isalpha() and S[1::2].isdigit():\n",
    "            return S.upper()\n",
    "        else:\n",
    "            return False\n",
    "    else:\n",
    "        return False\n",
    "\n",
    "postalValidate(' d3 L3 T3')"
   ]
  },
  {
   "cell_type": "markdown",
   "metadata": {},
   "source": [
    "The test runs at [Computer Science Circles](https://cscircles.cemc.uwaterloo.ca/14-methods/) include these arguments: ‘H0H0H0’, ‘postal’, ‘ d3 L3 T3’, ‘ 3d3 L3 T’, ‘’, ‘n21 3g1z’, ‘V4L1D’, ‘K1A 0A3’, ‘H0H0H’"
   ]
  },
  {
   "cell_type": "code",
   "execution_count": 3,
   "metadata": {
    "collapsed": true
   },
   "outputs": [],
   "source": [
    "# Function used in main() to print \n",
    "# what each function returns vs. what it's supposed to return\n",
    "\n",
    "def test(returned, expected):\n",
    "    if returned == expected:\n",
    "        prefix = ' OK '\n",
    "    else:\n",
    "        prefix = '  X '\n",
    "    print('{0} returned: {1} expected: {2}'.format(prefix, repr(returned), repr(expected)))"
   ]
  },
  {
   "cell_type": "code",
   "execution_count": 4,
   "metadata": {
    "collapsed": false
   },
   "outputs": [
    {
     "name": "stdout",
     "output_type": "stream",
     "text": [
      "postalValidate\n",
      " OK  returned: 'H0H0H0' expected: 'H0H0H0'\n",
      " OK  returned: False expected: False\n",
      " OK  returned: 'D3L3T3' expected: 'D3L3T3'\n",
      " OK  returned: False expected: False\n"
     ]
    }
   ],
   "source": [
    "# Calls the above functions with interesting inputs.\n",
    "def main():\n",
    "    print('postalValidate')\n",
    "    test(postalValidate('H0H0H0'), 'H0H0H0')\n",
    "    test(postalValidate('postal'), False)\n",
    "    test(postalValidate(' d3 L3 T3'), 'D3L3T3')\n",
    "    test(postalValidate(''), False)\n",
    "\n",
    "\n",
    "if __name__ == '__main__':\n",
    "    main()"
   ]
  }
 ],
 "metadata": {
  "kernelspec": {
   "display_name": "Python 3",
   "language": "python",
   "name": "python3"
  },
  "language_info": {
   "codemirror_mode": {
    "name": "ipython",
    "version": 3
   },
   "file_extension": ".py",
   "mimetype": "text/x-python",
   "name": "python",
   "nbconvert_exporter": "python",
   "pygments_lexer": "ipython3",
   "version": "3.6.0"
  }
 },
 "nbformat": 4,
 "nbformat_minor": 2
}
