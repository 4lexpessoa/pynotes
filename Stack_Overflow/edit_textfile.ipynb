{
 "cells": [
  {
   "cell_type": "markdown",
   "metadata": {},
   "source": [
    "#### Insert a string after a word in a specific line of a text file\n",
    "\n",
    "##### Input file\n",
    "line 1: value1  \n",
    "line 2: value2  \n",
    "line 3: value3  \n",
    "line 4: value4  \n",
    "line 5: value5  \n",
    "\n",
    "Insert, for example, \"NAME\" in the line number 3 just after \"line\" so the file would become:\n",
    "\n",
    "##### Output file\n",
    "\n",
    "line 1: value1  \n",
    "line 2: value2  \n",
    "line NAME 3: value3  \n",
    "line 4: value4  \n",
    "line 5: value5  "
   ]
  },
  {
   "cell_type": "code",
   "execution_count": 28,
   "metadata": {
    "collapsed": false
   },
   "outputs": [],
   "source": [
    "def insert_string(in_file, start, word):\n",
    "    \"\"\" Return a list of lines after inserting a word in a specific line. \"\"\"\n",
    "    \n",
    "    with open(in_file, 'r') as f:\n",
    "        lines = []\n",
    "        for line in f:\n",
    "            if line.startswith(start):\n",
    "                split_line = line.split()\n",
    "                split_line.insert(split_line.index(\"line\") + 1, word)\n",
    "                lines.append(' '.join(split_line) + '\\n')\n",
    "            else:\n",
    "                lines.append(line)\n",
    "                \n",
    "    return lines\n",
    "\n",
    "infile_path = 'f1.txt'\n",
    "where = 'line 3:'\n",
    "insertion = 'NAME\n",
    "\n",
    "def write_to(outfile, from_infile):\n",
    "    \n",
    "    with open(outfile, 'w') as f:\n",
    "        for line in insert_string(infile_path, where, insertion):\n",
    "            f.write(line)    \n",
    "\n",
    "outfile_path = 'f2.txt'\n",
    "\n",
    "write_to(outfile_path, infile_path)"
   ]
  },
  {
   "cell_type": "markdown",
   "metadata": {},
   "source": [
    "I'm not happy with the code above, will revisit it :)"
   ]
  }
 ],
 "metadata": {
  "kernelspec": {
   "display_name": "Python 3",
   "language": "python",
   "name": "python3"
  },
  "language_info": {
   "codemirror_mode": {
    "name": "ipython",
    "version": 3
   },
   "file_extension": ".py",
   "mimetype": "text/x-python",
   "name": "python",
   "nbconvert_exporter": "python",
   "pygments_lexer": "ipython3",
   "version": "3.6.0"
  }
 },
 "nbformat": 4,
 "nbformat_minor": 2
}
