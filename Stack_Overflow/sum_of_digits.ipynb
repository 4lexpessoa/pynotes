{
 "cells": [
  {
   "cell_type": "markdown",
   "metadata": {
    "collapsed": true
   },
   "source": [
    "#### [Recursively adding the digits](https://stackoverflow.com/questions/46617360/getting-wrong-sum-in-program-to-condense-a-number-to-a-single-digit-by-adding-th/46617754#46617754) of a number until the sum becomes a single digit"
   ]
  },
  {
   "cell_type": "code",
   "execution_count": 1,
   "metadata": {
    "collapsed": false
   },
   "outputs": [
    {
     "data": {
      "text/plain": [
       "1"
      ]
     },
     "execution_count": 1,
     "metadata": {},
     "output_type": "execute_result"
    }
   ],
   "source": [
    "def sum_of_digits(number):\n",
    "    \"\"\" Return sum of the digits of the number\n",
    "    \n",
    "    >>> sum_digits(1234)\n",
    "    >>> 1\n",
    "    \"\"\"\n",
    "    \n",
    "    if number < 10:    # base case\n",
    "        return number\n",
    "\n",
    "    num_copy = number\n",
    "    result = 0\n",
    "\n",
    "    while num_copy > 0:\n",
    "        remainder = num_copy % 10\n",
    "        result += remainder\n",
    "        num_copy //= 10\n",
    "\n",
    "    return sum_of_digits(result)\n",
    "\n",
    "sum_of_digits(1234)"
   ]
  },
  {
   "cell_type": "code",
   "execution_count": 2,
   "metadata": {
    "collapsed": true
   },
   "outputs": [],
   "source": [
    "# Function used in main() to print \n",
    "# what each function returns vs. what it's supposed to return\n",
    "\n",
    "def test(returned, expected):\n",
    "    if returned == expected:\n",
    "        prefix = ' OK '\n",
    "    else:\n",
    "        prefix = '  X '\n",
    "    print('{0} returned: {1} expected: {2}'.format(prefix, repr(returned), repr(expected)))"
   ]
  },
  {
   "cell_type": "code",
   "execution_count": 3,
   "metadata": {
    "collapsed": false
   },
   "outputs": [
    {
     "name": "stdout",
     "output_type": "stream",
     "text": [
      "sum_of_digits\n",
      " OK  returned: 6 expected: 6\n",
      " OK  returned: 5 expected: 5\n"
     ]
    }
   ],
   "source": [
    "# Calls the above functions with interesting inputs.\n",
    "def main():\n",
    "    print('sum_of_digits')\n",
    "    test(sum_of_digits(456), 6)\n",
    "    test(sum_of_digits(68), 5)    \n",
    "\n",
    "\n",
    "if __name__ == '__main__':\n",
    "    main()"
   ]
  }
 ],
 "metadata": {
  "kernelspec": {
   "display_name": "Python 3",
   "language": "python",
   "name": "python3"
  },
  "language_info": {
   "codemirror_mode": {
    "name": "ipython",
    "version": 3
   },
   "file_extension": ".py",
   "mimetype": "text/x-python",
   "name": "python",
   "nbconvert_exporter": "python",
   "pygments_lexer": "ipython3",
   "version": "3.6.0"
  }
 },
 "nbformat": 4,
 "nbformat_minor": 2
}
