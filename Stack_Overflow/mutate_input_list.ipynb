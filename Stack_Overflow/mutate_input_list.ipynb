{
 "cells": [
  {
   "cell_type": "markdown",
   "metadata": {},
   "source": [
    "#### [Mutate input list](https://stackoverflow.com/questions/46637076/how-to-return-a-nonetype-from-a-list-of-strings/46653579#46653579)\n",
    "\n",
    "I found this problem interesting :)\n",
    "\n",
    "Define a function that does this: Given a list of strings, with each string having a student’s name and their grades, mutate the input list so the original string positions are replaced with their average grades. The function doesn’t need an explicit `return` statement."
   ]
  },
  {
   "cell_type": "code",
   "execution_count": 4,
   "metadata": {
    "collapsed": false
   },
   "outputs": [
    {
     "data": {
      "text/plain": [
       "[74.0, 65.0, 98.0]"
      ]
     },
     "execution_count": 4,
     "metadata": {},
     "output_type": "execute_result"
    }
   ],
   "source": [
    "def get_averages(lst):\n",
    "\n",
    "    for i in range(len(lst[:])):\n",
    "        grades = lst[i].split(',')[1:]\n",
    "        float_grades = [float(grade) for grade in grades]        \n",
    "        average = sum(float_grades) / len(float_grades)        \n",
    "        lst[i] = average\n",
    "\n",
    "reports = ['Anna, 50, 92, 80', 'Bill, 60, 70', 'Cal, 98.5, 100, 95.5, 98']\n",
    "get_averages(reports)\n",
    "reports"
   ]
  }
 ],
 "metadata": {
  "kernelspec": {
   "display_name": "Python 3",
   "language": "python",
   "name": "python3"
  },
  "language_info": {
   "codemirror_mode": {
    "name": "ipython",
    "version": 3
   },
   "file_extension": ".py",
   "mimetype": "text/x-python",
   "name": "python",
   "nbconvert_exporter": "python",
   "pygments_lexer": "ipython3",
   "version": "3.6.0"
  }
 },
 "nbformat": 4,
 "nbformat_minor": 2
}
