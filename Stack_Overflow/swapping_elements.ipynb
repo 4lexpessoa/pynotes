{
 "cells": [
  {
   "cell_type": "markdown",
   "metadata": {},
   "source": [
    "#### [Swapping list elements](https://stackoverflow.com/questions/46560314/swaping-the-highest-element-to-the-last-postion-but-it-doesnot-print-the-list-af/46560931#46560931)\n",
    "\n",
    "This function swaps the biggest integer in a list with the one at the last position."
   ]
  },
  {
   "cell_type": "code",
   "execution_count": 1,
   "metadata": {
    "collapsed": false
   },
   "outputs": [
    {
     "data": {
      "text/plain": [
       "[-3, -2, -1, 0]"
      ]
     },
     "execution_count": 1,
     "metadata": {},
     "output_type": "execute_result"
    }
   ],
   "source": [
    "def swap_elements(in_list):\n",
    "    \"\"\" Return the list after swapping the biggest integer in the list \n",
    "    with the one at the last position.\n",
    "    \n",
    "    >>> swap_elements([3, 4, 2, 2, 43, 7])\n",
    "    >>> [3, 4, 2, 2, 7, 43]\n",
    "    \"\"\"\n",
    "    \n",
    "    index_of_biggest = in_list.index(max(in_list))\n",
    "    last_index = in_list.index(in_list[-1])\n",
    "    \n",
    "    in_list[index_of_biggest], in_list[last_index] = in_list[last_index], in_list[index_of_biggest]\n",
    "    return in_list\n",
    "\n",
    "swap_elements([-3, -2, -1, 0])"
   ]
  },
  {
   "cell_type": "code",
   "execution_count": 2,
   "metadata": {
    "collapsed": true
   },
   "outputs": [],
   "source": [
    "# Function used in main() to print \n",
    "# what each function returns vs. what it's supposed to return\n",
    "\n",
    "def test(returned, expected):\n",
    "    if returned == expected:\n",
    "        prefix = ' OK '\n",
    "    else:\n",
    "        prefix = '  X '\n",
    "    print('{0} returned: {1} expected: {2}'.format(prefix, repr(returned), repr(expected)))"
   ]
  },
  {
   "cell_type": "code",
   "execution_count": 3,
   "metadata": {
    "collapsed": false
   },
   "outputs": [
    {
     "name": "stdout",
     "output_type": "stream",
     "text": [
      "swap_elements\n",
      " OK  returned: [3, 4, 2, 2, 7, 43] expected: [3, 4, 2, 2, 7, 43]\n",
      " OK  returned: [-3, -2, -1, 0] expected: [-3, -2, -1, 0]\n"
     ]
    }
   ],
   "source": [
    "# Calls the above functions with interesting inputs.\n",
    "def main():\n",
    "    print('swap_elements')\n",
    "    test(swap_elements([3, 4, 2, 2, 43, 7]), [3, 4, 2, 2, 7, 43])\n",
    "    test(swap_elements([-3, -2, -1, 0]), [-3, -2, -1, 0])\n",
    "\n",
    "\n",
    "if __name__ == '__main__':\n",
    "    main()"
   ]
  }
 ],
 "metadata": {
  "kernelspec": {
   "display_name": "Python 3",
   "language": "python",
   "name": "python3"
  },
  "language_info": {
   "codemirror_mode": {
    "name": "ipython",
    "version": 3
   },
   "file_extension": ".py",
   "mimetype": "text/x-python",
   "name": "python",
   "nbconvert_exporter": "python",
   "pygments_lexer": "ipython3",
   "version": "3.6.0"
  }
 },
 "nbformat": 4,
 "nbformat_minor": 2
}
